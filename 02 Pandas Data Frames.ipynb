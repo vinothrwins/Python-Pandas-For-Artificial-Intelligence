{
 "cells": [
  {
   "cell_type": "markdown",
   "metadata": {},
   "source": [
    "# Python Pandas Tutorial"
   ]
  },
  {
   "cell_type": "markdown",
   "metadata": {},
   "source": [
    "A Data frame is a multi-dimensional data structure, i.e., data is aligned in a tabular fashion in rows and columns.\n",
    "\n",
    "<img src=\"assets/series-and-dataframe.png\" width=600px />\n",
    "\n",
    "You can think of it as a spreadsheet data or SQL table representation."
   ]
  },
  {
   "cell_type": "markdown",
   "metadata": {},
   "source": [
    "## Data Frame Creation :"
   ]
  },
  {
   "cell_type": "code",
   "execution_count": 1,
   "metadata": {},
   "outputs": [],
   "source": [
    "#import the pandas library and aliasing as pd\n",
    "import pandas as pd"
   ]
  },
  {
   "cell_type": "markdown",
   "metadata": {},
   "source": [
    "### Create an Empty DataFrame"
   ]
  },
  {
   "cell_type": "markdown",
   "metadata": {},
   "source": [
    "#### Example 1: "
   ]
  },
  {
   "cell_type": "code",
   "execution_count": 2,
   "metadata": {
    "scrolled": true
   },
   "outputs": [
    {
     "name": "stdout",
     "output_type": "stream",
     "text": [
      "Empty DataFrame\n",
      "Columns: []\n",
      "Index: []\n"
     ]
    }
   ],
   "source": [
    "df = pd.DataFrame()\n",
    "print(df)"
   ]
  },
  {
   "cell_type": "markdown",
   "metadata": {},
   "source": [
    "### Create a DataFrame from Lists"
   ]
  },
  {
   "cell_type": "markdown",
   "metadata": {},
   "source": [
    "#### Example 1:"
   ]
  },
  {
   "cell_type": "code",
   "execution_count": 3,
   "metadata": {},
   "outputs": [],
   "source": [
    "# Details of students marks mentioned inside the list \n",
    "marks = [35,67,34,89,12,55,83,56,90,99]"
   ]
  },
  {
   "cell_type": "code",
   "execution_count": 4,
   "metadata": {},
   "outputs": [
    {
     "name": "stdout",
     "output_type": "stream",
     "text": [
      "    0\n",
      "0  35\n",
      "1  67\n",
      "2  34\n",
      "3  89\n",
      "4  12\n",
      "5  55\n",
      "6  83\n",
      "7  56\n",
      "8  90\n",
      "9  99\n"
     ]
    }
   ],
   "source": [
    "df = pd.DataFrame(marks)\n",
    "print(df)"
   ]
  },
  {
   "cell_type": "markdown",
   "metadata": {},
   "source": [
    "#### Example 2:"
   ]
  },
  {
   "cell_type": "code",
   "execution_count": 5,
   "metadata": {},
   "outputs": [],
   "source": [
    "students = [['Anand',65],['Mohan',90],['Kumaran',85],['Vinoth',50],['Pranav',93]]"
   ]
  },
  {
   "cell_type": "code",
   "execution_count": 6,
   "metadata": {},
   "outputs": [
    {
     "name": "stdout",
     "output_type": "stream",
     "text": [
      "      Name  Marks\n",
      "0    Anand     65\n",
      "1    Mohan     90\n",
      "2  Kumaran     85\n",
      "3   Vinoth     50\n",
      "4   Pranav     93\n"
     ]
    }
   ],
   "source": [
    "df = pd.DataFrame(students,columns=['Name','Marks'])\n",
    "print(df)"
   ]
  },
  {
   "cell_type": "markdown",
   "metadata": {},
   "source": [
    "#### Example 3:"
   ]
  },
  {
   "cell_type": "code",
   "execution_count": 7,
   "metadata": {},
   "outputs": [
    {
     "name": "stdout",
     "output_type": "stream",
     "text": [
      "      Name  Marks\n",
      "0    Anand   65.0\n",
      "1    Mohan   90.0\n",
      "2  Kumaran   85.0\n",
      "3   Vinoth   50.0\n",
      "4   Pranav   93.0\n"
     ]
    }
   ],
   "source": [
    "# dtype as float\n",
    "df = pd.DataFrame(students,columns=['Name','Marks'],dtype=float)\n",
    "print(df)"
   ]
  },
  {
   "cell_type": "markdown",
   "metadata": {},
   "source": [
    "### Creating DataFrames from NumPy"
   ]
  },
  {
   "cell_type": "markdown",
   "metadata": {},
   "source": [
    "#### Example 1:"
   ]
  },
  {
   "cell_type": "code",
   "execution_count": 8,
   "metadata": {},
   "outputs": [
    {
     "name": "stdout",
     "output_type": "stream",
     "text": [
      "   Maths Marks\n",
      "0           85\n",
      "1           50\n",
      "2           75\n",
      "3           80\n",
      "4           78\n"
     ]
    }
   ],
   "source": [
    "import numpy as np\n",
    "df = pd.DataFrame(np.array([85,50,75,80,78]),columns=['Maths Marks'])\n",
    "print(df)"
   ]
  },
  {
   "cell_type": "markdown",
   "metadata": {},
   "source": [
    "### Creating DataFrames from dictionary\n",
    "\n",
    "There are *many* ways to create a DataFrame from scratch, but a great option is to just use a simple `dict`. "
   ]
  },
  {
   "cell_type": "markdown",
   "metadata": {},
   "source": [
    "#### Example 1:"
   ]
  },
  {
   "cell_type": "code",
   "execution_count": 9,
   "metadata": {},
   "outputs": [],
   "source": [
    "students = {\n",
    "    'Name'  : ['Anand','Mohan','Kumaran','Vinoth','Pranav'],\n",
    "    'Maths Marks' : [65, 90, 85, 50, 93]    \n",
    "}"
   ]
  },
  {
   "cell_type": "code",
   "execution_count": 10,
   "metadata": {},
   "outputs": [
    {
     "name": "stdout",
     "output_type": "stream",
     "text": [
      "      Name  Maths Marks\n",
      "0    Anand           65\n",
      "1    Mohan           90\n",
      "2  Kumaran           85\n",
      "3   Vinoth           50\n",
      "4   Pranav           93\n"
     ]
    }
   ],
   "source": [
    "df = pd.DataFrame(students)\n",
    "print(df)"
   ]
  },
  {
   "cell_type": "markdown",
   "metadata": {},
   "source": [
    "#### Example 2:"
   ]
  },
  {
   "cell_type": "markdown",
   "metadata": {},
   "source": [
    "#### **How did that work?**\n",
    "\n",
    "Each *(key, value)* item in `data` corresponds to a *column* in the resulting DataFrame.\n",
    "\n",
    "The **Index** of this DataFrame was given to us on creation as the numbers 0-4, but we could also create our own when we initialize the DataFrame. \n",
    "\n",
    "Let's have roll number names as our index: "
   ]
  },
  {
   "cell_type": "code",
   "execution_count": 11,
   "metadata": {},
   "outputs": [
    {
     "name": "stdout",
     "output_type": "stream",
     "text": [
      "        Name  Maths Marks\n",
      "100    Anand           65\n",
      "101    Mohan           90\n",
      "102  Kumaran           85\n",
      "103   Vinoth           50\n",
      "104   Pranav           93\n"
     ]
    }
   ],
   "source": [
    "# Note: We can provide roll number(interger) and also string value(Surname)\n",
    "df = pd.DataFrame(students,index=[100,101,102,103,104])\n",
    "print(df)"
   ]
  },
  {
   "cell_type": "markdown",
   "metadata": {},
   "source": [
    "### Column Selection"
   ]
  },
  {
   "cell_type": "code",
   "execution_count": 12,
   "metadata": {},
   "outputs": [
    {
     "data": {
      "text/plain": [
       "100      Anand\n",
       "101      Mohan\n",
       "102    Kumaran\n",
       "103     Vinoth\n",
       "104     Pranav\n",
       "Name: Name, dtype: object"
      ]
     },
     "execution_count": 12,
     "metadata": {},
     "output_type": "execute_result"
    }
   ],
   "source": [
    "df['Name']"
   ]
  },
  {
   "cell_type": "markdown",
   "metadata": {},
   "source": [
    "### Column Addition"
   ]
  },
  {
   "cell_type": "markdown",
   "metadata": {},
   "source": [
    "#### Example 1: Using Series"
   ]
  },
  {
   "cell_type": "code",
   "execution_count": 13,
   "metadata": {},
   "outputs": [
    {
     "name": "stdout",
     "output_type": "stream",
     "text": [
      "Adding a new columns by passing as Series:\n",
      "        Name  Maths Marks  Physics Marks\n",
      "100    Anand           65             75\n",
      "101    Mohan           90             88\n",
      "102  Kumaran           85             65\n",
      "103   Vinoth           50             90\n",
      "104   Pranav           93             50\n"
     ]
    }
   ],
   "source": [
    "# Adding a new column to an existing DataFrame object with column label by passing new series\n",
    "\n",
    "print(\"Adding a new columns by passing as Series:\")\n",
    "df['Physics Marks']=pd.Series([75,88,65,90,50],index=[100,101,102,103,104])\n",
    "print(df)"
   ]
  },
  {
   "cell_type": "markdown",
   "metadata": {},
   "source": [
    "#### Example 2: Using NumPy"
   ]
  },
  {
   "cell_type": "code",
   "execution_count": 14,
   "metadata": {},
   "outputs": [
    {
     "name": "stdout",
     "output_type": "stream",
     "text": [
      "        Name  Maths Marks  Physics Marks  Chemistry Marks\n",
      "100    Anand           65             75               85\n",
      "101    Mohan           90             88               50\n",
      "102  Kumaran           85             65               75\n",
      "103   Vinoth           50             90               80\n",
      "104   Pranav           93             50               78\n"
     ]
    }
   ],
   "source": [
    "# Adding a new column to an existing DataFrame object with column label using numpy\n",
    "\n",
    "df['Chemistry Marks'] = pd.DataFrame(data=np.array([85,50,75,80,78]),index=[100,101,102,103,104])\n",
    "print(df)"
   ]
  },
  {
   "cell_type": "markdown",
   "metadata": {},
   "source": [
    "#### Example 3: Merging the Columns"
   ]
  },
  {
   "cell_type": "code",
   "execution_count": 15,
   "metadata": {},
   "outputs": [
    {
     "name": "stdout",
     "output_type": "stream",
     "text": [
      "Calculating the total and displaying in new column\n",
      "        Name  Maths Marks  Physics Marks  Chemistry Marks  Total\n",
      "100    Anand           65             75               85    225\n",
      "101    Mohan           90             88               50    228\n",
      "102  Kumaran           85             65               75    225\n",
      "103   Vinoth           50             90               80    220\n",
      "104   Pranav           93             50               78    221\n"
     ]
    }
   ],
   "source": [
    "print (\"Calculating the total and displaying in new column\")\n",
    "df['Total']= df['Maths Marks'] + df['Physics Marks'] + df['Chemistry Marks']\n",
    "print(df)"
   ]
  },
  {
   "cell_type": "markdown",
   "metadata": {},
   "source": [
    "### Column Deletion"
   ]
  },
  {
   "cell_type": "markdown",
   "metadata": {},
   "source": [
    "#### Example 1:"
   ]
  },
  {
   "cell_type": "code",
   "execution_count": 16,
   "metadata": {},
   "outputs": [
    {
     "name": "stdout",
     "output_type": "stream",
     "text": [
      "Deleting the total column using DEL function:\n",
      "        Name  Maths Marks  Physics Marks  Chemistry Marks\n",
      "100    Anand           65             75               85\n",
      "101    Mohan           90             88               50\n",
      "102  Kumaran           85             65               75\n",
      "103   Vinoth           50             90               80\n",
      "104   Pranav           93             50               78\n"
     ]
    }
   ],
   "source": [
    "# using del function\n",
    "print(\"Deleting the total column using DEL function:\")\n",
    "del df['Total']\n",
    "print(df)"
   ]
  },
  {
   "cell_type": "markdown",
   "metadata": {},
   "source": [
    "#### Example 2:"
   ]
  },
  {
   "cell_type": "code",
   "execution_count": 17,
   "metadata": {},
   "outputs": [
    {
     "name": "stdout",
     "output_type": "stream",
     "text": [
      "Deleting another column using POP function:\n",
      "        Name  Maths Marks  Physics Marks\n",
      "100    Anand           65             75\n",
      "101    Mohan           90             88\n",
      "102  Kumaran           85             65\n",
      "103   Vinoth           50             90\n",
      "104   Pranav           93             50\n"
     ]
    }
   ],
   "source": [
    "# using pop function\n",
    "print (\"Deleting another column using POP function:\")\n",
    "df.pop('Chemistry Marks')\n",
    "print(df)"
   ]
  },
  {
   "cell_type": "markdown",
   "metadata": {},
   "source": [
    "### Row Selection"
   ]
  },
  {
   "cell_type": "code",
   "execution_count": 18,
   "metadata": {
    "scrolled": true
   },
   "outputs": [
    {
     "name": "stdout",
     "output_type": "stream",
     "text": [
      "Name             Vinoth\n",
      "Maths Marks          50\n",
      "Physics Marks        90\n",
      "Name: 103, dtype: object\n"
     ]
    }
   ],
   "source": [
    "print(df.loc[103])"
   ]
  },
  {
   "cell_type": "markdown",
   "metadata": {},
   "source": [
    "### Addition of Rows\n",
    "Pandas dataframe.append() function is used to append rows of other dataframe to the end of the given dataframe, returning a new dataframe object. \n",
    "\n",
    "Columns not in the original dataframes are added as new columns and the new cells are populated with NaN value."
   ]
  },
  {
   "cell_type": "markdown",
   "metadata": {},
   "source": [
    "#### Example 1 : Data Frame with same shape"
   ]
  },
  {
   "cell_type": "code",
   "execution_count": 19,
   "metadata": {},
   "outputs": [
    {
     "name": "stdout",
     "output_type": "stream",
     "text": [
      "      Name  Maths Marks\n",
      "0    Anand           65\n",
      "1    Mohan           90\n",
      "2  Kumaran           85\n",
      "3   Vinoth           50\n",
      "4   Pranav           93\n",
      "(5, 2)\n"
     ]
    }
   ],
   "source": [
    "df1 = pd.DataFrame({\n",
    "    'Name'  : ['Anand','Mohan','Kumaran','Vinoth','Pranav'],\n",
    "    'Maths Marks' : [65, 90, 85, 50, 93]    \n",
    "})\n",
    "print(df1)\n",
    "print(df1.shape)"
   ]
  },
  {
   "cell_type": "code",
   "execution_count": 20,
   "metadata": {
    "scrolled": true
   },
   "outputs": [
    {
     "name": "stdout",
     "output_type": "stream",
     "text": [
      "      Name  Maths Marks\n",
      "0  Sathish           85\n",
      "(1, 2)\n"
     ]
    }
   ],
   "source": [
    "df2 = pd.DataFrame({\n",
    "    'Name'  : ['Sathish'],\n",
    "    'Maths Marks' : [85]    \n",
    "})\n",
    "print(df2)\n",
    "print(df2.shape)"
   ]
  },
  {
   "cell_type": "code",
   "execution_count": 21,
   "metadata": {
    "scrolled": true
   },
   "outputs": [
    {
     "data": {
      "text/html": [
       "<div>\n",
       "<style scoped>\n",
       "    .dataframe tbody tr th:only-of-type {\n",
       "        vertical-align: middle;\n",
       "    }\n",
       "\n",
       "    .dataframe tbody tr th {\n",
       "        vertical-align: top;\n",
       "    }\n",
       "\n",
       "    .dataframe thead th {\n",
       "        text-align: right;\n",
       "    }\n",
       "</style>\n",
       "<table border=\"1\" class=\"dataframe\">\n",
       "  <thead>\n",
       "    <tr style=\"text-align: right;\">\n",
       "      <th></th>\n",
       "      <th>Name</th>\n",
       "      <th>Maths Marks</th>\n",
       "    </tr>\n",
       "  </thead>\n",
       "  <tbody>\n",
       "    <tr>\n",
       "      <td>0</td>\n",
       "      <td>Anand</td>\n",
       "      <td>65</td>\n",
       "    </tr>\n",
       "    <tr>\n",
       "      <td>1</td>\n",
       "      <td>Mohan</td>\n",
       "      <td>90</td>\n",
       "    </tr>\n",
       "    <tr>\n",
       "      <td>2</td>\n",
       "      <td>Kumaran</td>\n",
       "      <td>85</td>\n",
       "    </tr>\n",
       "    <tr>\n",
       "      <td>3</td>\n",
       "      <td>Vinoth</td>\n",
       "      <td>50</td>\n",
       "    </tr>\n",
       "    <tr>\n",
       "      <td>4</td>\n",
       "      <td>Pranav</td>\n",
       "      <td>93</td>\n",
       "    </tr>\n",
       "    <tr>\n",
       "      <td>0</td>\n",
       "      <td>Sathish</td>\n",
       "      <td>85</td>\n",
       "    </tr>\n",
       "  </tbody>\n",
       "</table>\n",
       "</div>"
      ],
      "text/plain": [
       "      Name  Maths Marks\n",
       "0    Anand           65\n",
       "1    Mohan           90\n",
       "2  Kumaran           85\n",
       "3   Vinoth           50\n",
       "4   Pranav           93\n",
       "0  Sathish           85"
      ]
     },
     "execution_count": 21,
     "metadata": {},
     "output_type": "execute_result"
    }
   ],
   "source": [
    "# Appending the data frame\n",
    "df1.append(df2) "
   ]
  },
  {
   "cell_type": "code",
   "execution_count": 22,
   "metadata": {},
   "outputs": [
    {
     "data": {
      "text/html": [
       "<div>\n",
       "<style scoped>\n",
       "    .dataframe tbody tr th:only-of-type {\n",
       "        vertical-align: middle;\n",
       "    }\n",
       "\n",
       "    .dataframe tbody tr th {\n",
       "        vertical-align: top;\n",
       "    }\n",
       "\n",
       "    .dataframe thead th {\n",
       "        text-align: right;\n",
       "    }\n",
       "</style>\n",
       "<table border=\"1\" class=\"dataframe\">\n",
       "  <thead>\n",
       "    <tr style=\"text-align: right;\">\n",
       "      <th></th>\n",
       "      <th>Name</th>\n",
       "      <th>Maths Marks</th>\n",
       "    </tr>\n",
       "  </thead>\n",
       "  <tbody>\n",
       "    <tr>\n",
       "      <td>0</td>\n",
       "      <td>Anand</td>\n",
       "      <td>65</td>\n",
       "    </tr>\n",
       "    <tr>\n",
       "      <td>1</td>\n",
       "      <td>Mohan</td>\n",
       "      <td>90</td>\n",
       "    </tr>\n",
       "    <tr>\n",
       "      <td>2</td>\n",
       "      <td>Kumaran</td>\n",
       "      <td>85</td>\n",
       "    </tr>\n",
       "    <tr>\n",
       "      <td>3</td>\n",
       "      <td>Vinoth</td>\n",
       "      <td>50</td>\n",
       "    </tr>\n",
       "    <tr>\n",
       "      <td>4</td>\n",
       "      <td>Pranav</td>\n",
       "      <td>93</td>\n",
       "    </tr>\n",
       "    <tr>\n",
       "      <td>5</td>\n",
       "      <td>Sathish</td>\n",
       "      <td>85</td>\n",
       "    </tr>\n",
       "  </tbody>\n",
       "</table>\n",
       "</div>"
      ],
      "text/plain": [
       "      Name  Maths Marks\n",
       "0    Anand           65\n",
       "1    Mohan           90\n",
       "2  Kumaran           85\n",
       "3   Vinoth           50\n",
       "4   Pranav           93\n",
       "5  Sathish           85"
      ]
     },
     "execution_count": 22,
     "metadata": {},
     "output_type": "execute_result"
    }
   ],
   "source": [
    "# Ignoring the index \n",
    "df1.append(df2, ignore_index = True) "
   ]
  },
  {
   "cell_type": "markdown",
   "metadata": {},
   "source": [
    "#### Example 2 : Data frame with different shape\n",
    "For unequal no. of columns in the data frame, non-existent value in one of the dataframe will be filled with NaN values."
   ]
  },
  {
   "cell_type": "code",
   "execution_count": 23,
   "metadata": {},
   "outputs": [
    {
     "name": "stdout",
     "output_type": "stream",
     "text": [
      "      Name  Maths Marks\n",
      "0    Anand           65\n",
      "1    Mohan           90\n",
      "2  Kumaran           85\n",
      "3   Vinoth           50\n",
      "4   Pranav           93\n",
      "(5, 2)\n"
     ]
    }
   ],
   "source": [
    "df1 = pd.DataFrame({\n",
    "    'Name'  : ['Anand','Mohan','Kumaran','Vinoth','Pranav'],\n",
    "    'Maths Marks' : [65, 90, 85, 50, 93]    \n",
    "})\n",
    "print(df1)\n",
    "print(df1.shape)"
   ]
  },
  {
   "cell_type": "code",
   "execution_count": 24,
   "metadata": {
    "scrolled": true
   },
   "outputs": [
    {
     "name": "stdout",
     "output_type": "stream",
     "text": [
      "      Name  Maths Marks  Physics Marks\n",
      "0  Sathish           85             90\n",
      "(1, 3)\n"
     ]
    }
   ],
   "source": [
    "df2 = pd.DataFrame({\n",
    "    'Name'  : ['Sathish'],\n",
    "    'Maths Marks' : [85],\n",
    "    'Physics Marks': [90]\n",
    "})\n",
    "print(df2)\n",
    "print(df2.shape)"
   ]
  },
  {
   "cell_type": "code",
   "execution_count": 25,
   "metadata": {},
   "outputs": [
    {
     "name": "stderr",
     "output_type": "stream",
     "text": [
      "C:\\Users\\User\\Anaconda3\\lib\\site-packages\\pandas\\core\\frame.py:7123: FutureWarning: Sorting because non-concatenation axis is not aligned. A future version\n",
      "of pandas will change to not sort by default.\n",
      "\n",
      "To accept the future behavior, pass 'sort=False'.\n",
      "\n",
      "To retain the current behavior and silence the warning, pass 'sort=True'.\n",
      "\n",
      "  sort=sort,\n"
     ]
    },
    {
     "data": {
      "text/html": [
       "<div>\n",
       "<style scoped>\n",
       "    .dataframe tbody tr th:only-of-type {\n",
       "        vertical-align: middle;\n",
       "    }\n",
       "\n",
       "    .dataframe tbody tr th {\n",
       "        vertical-align: top;\n",
       "    }\n",
       "\n",
       "    .dataframe thead th {\n",
       "        text-align: right;\n",
       "    }\n",
       "</style>\n",
       "<table border=\"1\" class=\"dataframe\">\n",
       "  <thead>\n",
       "    <tr style=\"text-align: right;\">\n",
       "      <th></th>\n",
       "      <th>Maths Marks</th>\n",
       "      <th>Name</th>\n",
       "      <th>Physics Marks</th>\n",
       "    </tr>\n",
       "  </thead>\n",
       "  <tbody>\n",
       "    <tr>\n",
       "      <td>0</td>\n",
       "      <td>65</td>\n",
       "      <td>Anand</td>\n",
       "      <td>NaN</td>\n",
       "    </tr>\n",
       "    <tr>\n",
       "      <td>1</td>\n",
       "      <td>90</td>\n",
       "      <td>Mohan</td>\n",
       "      <td>NaN</td>\n",
       "    </tr>\n",
       "    <tr>\n",
       "      <td>2</td>\n",
       "      <td>85</td>\n",
       "      <td>Kumaran</td>\n",
       "      <td>NaN</td>\n",
       "    </tr>\n",
       "    <tr>\n",
       "      <td>3</td>\n",
       "      <td>50</td>\n",
       "      <td>Vinoth</td>\n",
       "      <td>NaN</td>\n",
       "    </tr>\n",
       "    <tr>\n",
       "      <td>4</td>\n",
       "      <td>93</td>\n",
       "      <td>Pranav</td>\n",
       "      <td>NaN</td>\n",
       "    </tr>\n",
       "    <tr>\n",
       "      <td>5</td>\n",
       "      <td>85</td>\n",
       "      <td>Sathish</td>\n",
       "      <td>90.0</td>\n",
       "    </tr>\n",
       "  </tbody>\n",
       "</table>\n",
       "</div>"
      ],
      "text/plain": [
       "   Maths Marks     Name  Physics Marks\n",
       "0           65    Anand            NaN\n",
       "1           90    Mohan            NaN\n",
       "2           85  Kumaran            NaN\n",
       "3           50   Vinoth            NaN\n",
       "4           93   Pranav            NaN\n",
       "5           85  Sathish           90.0"
      ]
     },
     "execution_count": 25,
     "metadata": {},
     "output_type": "execute_result"
    }
   ],
   "source": [
    "# Appending the data frame by ignoring the index\n",
    "df1.append(df2, ignore_index = True)"
   ]
  },
  {
   "cell_type": "markdown",
   "metadata": {},
   "source": [
    "### Deletion of Rows"
   ]
  },
  {
   "cell_type": "code",
   "execution_count": 26,
   "metadata": {},
   "outputs": [
    {
     "name": "stdout",
     "output_type": "stream",
     "text": [
      "      Name  Maths Marks\n",
      "0    Anand           65\n",
      "1    Mohan           90\n",
      "2  Kumaran           85\n",
      "3   Vinoth           50\n",
      "4   Pranav           93\n"
     ]
    }
   ],
   "source": [
    "print(df1)"
   ]
  },
  {
   "cell_type": "code",
   "execution_count": 27,
   "metadata": {},
   "outputs": [
    {
     "name": "stdout",
     "output_type": "stream",
     "text": [
      "      Name  Maths Marks\n",
      "0    Anand           65\n",
      "1    Mohan           90\n",
      "2  Kumaran           85\n",
      "4   Pranav           93\n"
     ]
    }
   ],
   "source": [
    "# Drop rows by mentioning the index number \n",
    "df1 = df1.drop(3)\n",
    "print(df1)"
   ]
  }
 ],
 "metadata": {
  "kernelspec": {
   "display_name": "Python 3",
   "language": "python",
   "name": "python3"
  },
  "language_info": {
   "codemirror_mode": {
    "name": "ipython",
    "version": 3
   },
   "file_extension": ".py",
   "mimetype": "text/x-python",
   "name": "python",
   "nbconvert_exporter": "python",
   "pygments_lexer": "ipython3",
   "version": "3.7.4"
  }
 },
 "nbformat": 4,
 "nbformat_minor": 2
}
