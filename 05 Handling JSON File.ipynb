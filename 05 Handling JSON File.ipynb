{
 "cells": [
  {
   "cell_type": "markdown",
   "metadata": {},
   "source": [
    "## How to Read and Write the Excel Files using Pandas\n",
    "One crucial feature of Pandas is its ability to write and read Excel, CSV, and many other types of files.\n",
    "\n",
    "1. CSV Files(Comma Separated Values)\n",
    "2. Text Delimited files\n",
    "3. Excel Files (xls, xlsx)\n",
    "4. <b>JSON Files</b>\n",
    "5. HTML Files\n",
    "6. SQL Files(DataBase)\n",
    "\n",
    "### Reference :\n",
    "https://www.w3schools.com/js/js_json_intro.asp\n",
    "\n",
    "https://www.tutorialspoint.com/json/json_overview.htm   \n",
    "\n",
    "## Overview of JSON\n",
    "\n",
    "### What is JSON?\n",
    "\n",
    "* JSON stands for JavaScript Object Notation.\n",
    "* It is a lightweight data-interchange format.\n",
    "* It is \"self-describing\" and easy to understand.\n",
    "* It is text, written with JavaScript object notation.\n",
    "* The filename extension is .json\n",
    "\n",
    "### Use of JSON\n",
    "\n",
    "* It is primarily used to transmit data between a server and web applications.\n",
    "* JSON data format can be used by any programming language.\n",
    "* It is used while writing JavaScript based applications that includes browser extensions and websites.\n",
    "* JSON format is used for serializing and transmitting structured data over network connection.\n",
    "* Web services and APIs use JSON format to provide public data.\n",
    "\n",
    "### JSON Syntax Rules\n",
    "JSON syntax is derived from JavaScript object notation syntax:\n",
    "\n",
    "* Data is in name(key)/value pairs(Like Dictionary concept in Python)\n",
    "* Curly braces hold objects\n",
    "* Data is separated by commas\n",
    "* Square brackets hold arrays"
   ]
  },
  {
   "cell_type": "markdown",
   "metadata": {},
   "source": [
    "### Sample JSON Data "
   ]
  },
  {
   "cell_type": "code",
   "execution_count": 1,
   "metadata": {},
   "outputs": [
    {
     "data": {
      "text/plain": [
       "{'name': 'Vinoth R',\n",
       " 'details': {'gender': 'Male',\n",
       "  'age': '32',\n",
       "  'places_lived': ['India', 'UK', 'Belgium'],\n",
       "  'address': {'streetaddress': 'Besant Nagar',\n",
       "   'city': 'Chennai',\n",
       "   'state': 'TamilNAdu',\n",
       "   'postalcode': '600100'}}}"
      ]
     },
     "execution_count": 1,
     "metadata": {},
     "output_type": "execute_result"
    }
   ],
   "source": [
    "{\n",
    "    \"name\": \"Vinoth R\",\n",
    "    \"details\": {\n",
    "        \"gender\": \"Male\",\n",
    "        \"age\": \"32\",\n",
    "        \"places_lived\": [\"India\", \"UK\", \"Belgium\"],\n",
    "        \"address\": {\n",
    "            \"streetaddress\": \"Besant Nagar\",\n",
    "            \"city\": \"Chennai\",\n",
    "            \"state\": \"TamilNAdu\",\n",
    "            \"postalcode\": \"600100\"}\n",
    "          \n",
    "        }\n",
    "}"
   ]
  },
  {
   "cell_type": "markdown",
   "metadata": {},
   "source": [
    "To View the data : http://jsonviewer.stack.hu/"
   ]
  },
  {
   "cell_type": "code",
   "execution_count": 2,
   "metadata": {},
   "outputs": [],
   "source": [
    "#importing the pandas and json packages\n",
    "import pandas as pd\n",
    "import json"
   ]
  },
  {
   "cell_type": "code",
   "execution_count": 3,
   "metadata": {},
   "outputs": [
    {
     "name": "stdout",
     "output_type": "stream",
     "text": [
      "\n",
      "    {\n",
      "    \"name\" : [\"Anand\", \"Pranav\", \"Vinoth\", \"Kathick\"],\n",
      "    \"empid\": [456543,452341,457899,223450],\n",
      "    \"age\":[27,21,30,29],\n",
      "    \"worklocation\":[\"Chennai\",\"Delhi\",\"Hyderabad\",\"Mumbai\"]\n",
      "    }\n",
      "\n",
      "<class 'str'>\n"
     ]
    }
   ],
   "source": [
    "# JSON Sample Data\n",
    "raw_data = \"\"\"\n",
    "    {\n",
    "    \"name\" : [\"Anand\", \"Pranav\", \"Vinoth\", \"Kathick\"],\n",
    "    \"empid\": [456543,452341,457899,223450],\n",
    "    \"age\":[27,21,30,29],\n",
    "    \"worklocation\":[\"Chennai\",\"Delhi\",\"Hyderabad\",\"Mumbai\"]\n",
    "    }\n",
    "\"\"\"\n",
    "# printing the data and checking the data type\n",
    "print(raw_data)\n",
    "print(type(raw_data))"
   ]
  },
  {
   "cell_type": "markdown",
   "metadata": {},
   "source": [
    "### String to Dictionary Conversion"
   ]
  },
  {
   "cell_type": "code",
   "execution_count": 4,
   "metadata": {},
   "outputs": [
    {
     "name": "stdout",
     "output_type": "stream",
     "text": [
      "{'name': ['Anand', 'Pranav', 'Vinoth', 'Kathick'], 'empid': [456543, 452341, 457899, 223450], 'age': [27, 21, 30, 29], 'worklocation': ['Chennai', 'Delhi', 'Hyderabad', 'Mumbai']}\n",
      "<class 'dict'>\n"
     ]
    }
   ],
   "source": [
    "# loads is used to convert the string to dictionary data type\n",
    "emp_details = json.loads(raw_data)\n",
    "\n",
    "# printing the data and checking the data type\n",
    "print(emp_details)\n",
    "print(type(emp_details))"
   ]
  },
  {
   "cell_type": "markdown",
   "metadata": {},
   "source": [
    "### Search for the Value"
   ]
  },
  {
   "cell_type": "code",
   "execution_count": 5,
   "metadata": {},
   "outputs": [
    {
     "data": {
      "text/plain": [
       "['Anand', 'Pranav', 'Vinoth', 'Kathick']"
      ]
     },
     "execution_count": 5,
     "metadata": {},
     "output_type": "execute_result"
    }
   ],
   "source": [
    "emp_details['name']"
   ]
  },
  {
   "cell_type": "code",
   "execution_count": 6,
   "metadata": {},
   "outputs": [
    {
     "data": {
      "text/plain": [
       "['Chennai', 'Delhi', 'Hyderabad', 'Mumbai']"
      ]
     },
     "execution_count": 6,
     "metadata": {},
     "output_type": "execute_result"
    }
   ],
   "source": [
    "emp_details['worklocation']"
   ]
  },
  {
   "cell_type": "code",
   "execution_count": 7,
   "metadata": {},
   "outputs": [
    {
     "data": {
      "text/plain": [
       "'Hyderabad'"
      ]
     },
     "execution_count": 7,
     "metadata": {},
     "output_type": "execute_result"
    }
   ],
   "source": [
    "emp_details['worklocation'][2]"
   ]
  },
  {
   "cell_type": "markdown",
   "metadata": {},
   "source": [
    "### Data Frame Creation"
   ]
  },
  {
   "cell_type": "code",
   "execution_count": 8,
   "metadata": {},
   "outputs": [
    {
     "data": {
      "text/html": [
       "<div>\n",
       "<style scoped>\n",
       "    .dataframe tbody tr th:only-of-type {\n",
       "        vertical-align: middle;\n",
       "    }\n",
       "\n",
       "    .dataframe tbody tr th {\n",
       "        vertical-align: top;\n",
       "    }\n",
       "\n",
       "    .dataframe thead th {\n",
       "        text-align: right;\n",
       "    }\n",
       "</style>\n",
       "<table border=\"1\" class=\"dataframe\">\n",
       "  <thead>\n",
       "    <tr style=\"text-align: right;\">\n",
       "      <th></th>\n",
       "      <th>name</th>\n",
       "      <th>empid</th>\n",
       "      <th>age</th>\n",
       "      <th>worklocation</th>\n",
       "    </tr>\n",
       "  </thead>\n",
       "  <tbody>\n",
       "    <tr>\n",
       "      <td>0</td>\n",
       "      <td>Anand</td>\n",
       "      <td>456543</td>\n",
       "      <td>27</td>\n",
       "      <td>Chennai</td>\n",
       "    </tr>\n",
       "    <tr>\n",
       "      <td>1</td>\n",
       "      <td>Pranav</td>\n",
       "      <td>452341</td>\n",
       "      <td>21</td>\n",
       "      <td>Delhi</td>\n",
       "    </tr>\n",
       "    <tr>\n",
       "      <td>2</td>\n",
       "      <td>Vinoth</td>\n",
       "      <td>457899</td>\n",
       "      <td>30</td>\n",
       "      <td>Hyderabad</td>\n",
       "    </tr>\n",
       "    <tr>\n",
       "      <td>3</td>\n",
       "      <td>Kathick</td>\n",
       "      <td>223450</td>\n",
       "      <td>29</td>\n",
       "      <td>Mumbai</td>\n",
       "    </tr>\n",
       "  </tbody>\n",
       "</table>\n",
       "</div>"
      ],
      "text/plain": [
       "      name   empid  age worklocation\n",
       "0    Anand  456543   27      Chennai\n",
       "1   Pranav  452341   21        Delhi\n",
       "2   Vinoth  457899   30    Hyderabad\n",
       "3  Kathick  223450   29       Mumbai"
      ]
     },
     "execution_count": 8,
     "metadata": {},
     "output_type": "execute_result"
    }
   ],
   "source": [
    "# Creating the data frame directly using the data \n",
    "df = pd.read_json(raw_data)\n",
    "df"
   ]
  },
  {
   "cell_type": "markdown",
   "metadata": {},
   "source": [
    "## Data Frame Creation using JSON File"
   ]
  },
  {
   "cell_type": "code",
   "execution_count": 9,
   "metadata": {
    "scrolled": true
   },
   "outputs": [
    {
     "data": {
      "text/html": [
       "<div>\n",
       "<style scoped>\n",
       "    .dataframe tbody tr th:only-of-type {\n",
       "        vertical-align: middle;\n",
       "    }\n",
       "\n",
       "    .dataframe tbody tr th {\n",
       "        vertical-align: top;\n",
       "    }\n",
       "\n",
       "    .dataframe thead th {\n",
       "        text-align: right;\n",
       "    }\n",
       "</style>\n",
       "<table border=\"1\" class=\"dataframe\">\n",
       "  <thead>\n",
       "    <tr style=\"text-align: right;\">\n",
       "      <th></th>\n",
       "      <th>name</th>\n",
       "      <th>empid</th>\n",
       "      <th>age</th>\n",
       "      <th>worklocation</th>\n",
       "    </tr>\n",
       "  </thead>\n",
       "  <tbody>\n",
       "    <tr>\n",
       "      <td>0</td>\n",
       "      <td>Anand</td>\n",
       "      <td>456543</td>\n",
       "      <td>27</td>\n",
       "      <td>Chennai</td>\n",
       "    </tr>\n",
       "    <tr>\n",
       "      <td>1</td>\n",
       "      <td>Pranav</td>\n",
       "      <td>452341</td>\n",
       "      <td>21</td>\n",
       "      <td>Delhi</td>\n",
       "    </tr>\n",
       "    <tr>\n",
       "      <td>2</td>\n",
       "      <td>Vinoth</td>\n",
       "      <td>457899</td>\n",
       "      <td>30</td>\n",
       "      <td>Hyderabad</td>\n",
       "    </tr>\n",
       "    <tr>\n",
       "      <td>3</td>\n",
       "      <td>Kathick</td>\n",
       "      <td>223450</td>\n",
       "      <td>29</td>\n",
       "      <td>Mumbai</td>\n",
       "    </tr>\n",
       "  </tbody>\n",
       "</table>\n",
       "</div>"
      ],
      "text/plain": [
       "      name   empid  age worklocation\n",
       "0    Anand  456543   27      Chennai\n",
       "1   Pranav  452341   21        Delhi\n",
       "2   Vinoth  457899   30    Hyderabad\n",
       "3  Kathick  223450   29       Mumbai"
      ]
     },
     "execution_count": 9,
     "metadata": {},
     "output_type": "execute_result"
    }
   ],
   "source": [
    "# Creating the data frame by directly reading the json file\n",
    "my_file = 'C:\\Video Tutorials\\Python libraries\\Pandas Code\\Read and Write\\JSON\\Sample.json'\n",
    "df = pd.read_json(my_file)\n",
    "df"
   ]
  },
  {
   "cell_type": "markdown",
   "metadata": {},
   "source": [
    "### Dictionary to String Conversion"
   ]
  },
  {
   "cell_type": "code",
   "execution_count": 10,
   "metadata": {
    "scrolled": false
   },
   "outputs": [
    {
     "name": "stdout",
     "output_type": "stream",
     "text": [
      "\"\\n    {\\n    \\\"name\\\" : [\\\"Anand\\\", \\\"Pranav\\\", \\\"Vinoth\\\", \\\"Kathick\\\"],\\n    \\\"empid\\\": [456543,452341,457899,223450],\\n    \\\"age\\\":[27,21,30,29],\\n    \\\"worklocation\\\":[\\\"Chennai\\\",\\\"Delhi\\\",\\\"Hyderabad\\\",\\\"Mumbai\\\"]\\n    }\\n\"\n",
      "<class 'str'>\n"
     ]
    }
   ],
   "source": [
    "# dumps is used to convert dictionary to string data type\n",
    "emp_details = json.dumps(raw_data)\n",
    "\n",
    "# printing the data and checking the data type\n",
    "print(emp_details)\n",
    "print(type(emp_details))"
   ]
  },
  {
   "cell_type": "markdown",
   "metadata": {},
   "source": [
    "### Export to JSON File"
   ]
  },
  {
   "cell_type": "code",
   "execution_count": 11,
   "metadata": {},
   "outputs": [],
   "source": [
    "# Export with orient='split' - JSON file will be in dict like format seperated based on columns, index and data \n",
    "df.to_json('C:\\Video Tutorials\\Python libraries\\Pandas Code\\Read and Write\\JSON\\EmpDetails.json',orient='split')"
   ]
  },
  {
   "cell_type": "code",
   "execution_count": 12,
   "metadata": {},
   "outputs": [],
   "source": [
    "# Export with orient='split' - JSON file will be in list like format\n",
    "df.to_json('C:\\Video Tutorials\\Python libraries\\Pandas Code\\Read and Write\\JSON\\EmpDetails2.json',orient='records')"
   ]
  }
 ],
 "metadata": {
  "kernelspec": {
   "display_name": "Python 3",
   "language": "python",
   "name": "python3"
  },
  "language_info": {
   "codemirror_mode": {
    "name": "ipython",
    "version": 3
   },
   "file_extension": ".py",
   "mimetype": "text/x-python",
   "name": "python",
   "nbconvert_exporter": "python",
   "pygments_lexer": "ipython3",
   "version": "3.7.4"
  }
 },
 "nbformat": 4,
 "nbformat_minor": 2
}
